{
 "cells": [
  {
   "cell_type": "raw",
   "metadata": {},
   "source": [
    "# Planning-Lab Lesson 1: Uninformed Search Strategies\n",
    "\n",
    "In this first lesson we will work on Uninformed Search. \n",
    "\n",
    "### Maze Environments\n",
    "The environments used is **SmallMaze** (visible in the figure).\n",
    "\n",
    "<img src=\"images/maze.png\" width=\"300\">\n",
    "\n",
    "The agent starts in cell $(0, 2)$ and has to reach the treasure in $(4, 3)$.\n",
    "\n",
    "In order to use the environment we need first to import the packages of OpenAI Gym. Notice that due to the structure of this repository, we need to add the parent directory to the path"
   ]
  },
  {
   "cell_type": "code",
   "execution_count": 17,
   "metadata": {},
   "outputs": [],
   "source": [
    "import os, sys, time, math\n",
    "\n",
    "module_path = os.path.abspath(os.path.join('../tools'))\n",
    "if module_path not in sys.path:\n",
    "    sys.path.append(module_path)\n",
    "\n",
    "from utils.ai_lab_functions import *\n",
    "import gym, envs\n",
    "#env = gym.make(\"SmallMaze-v0\")\n",
    "#env.render()\n",
    "#env.actions"
   ]
  },
  {
   "cell_type": "markdown",
   "metadata": {},
   "source": [
    "## Assignment 1: Breadth-First Search (BFS)\n",
    "\n",
    "Your first assignment is to implement the BFS algorithm on SmallMaze. In particular, you should implement both *tree search* and *graph search* versions of BFS that the generic bfs will call. \n",
    "\n",
    "The results returned by your **BFS** must be in the following form (path, time_cost, space_cost), more in detail:\n",
    "\n",
    "- **path** - a tuple of state identifiers forming a path from the start state to the goal state. None if no solution is found.\n",
    "- **time_cost** - the number of nodes checked during the exploration.\n",
    "- **space_cost** - the maximum number of nodes in memory simultaneously.\n",
    "\n",
    "**For the time_cost, we consider a node checked after its generation!**\n",
    "\n",
    "After the correctness of your implementations has been assessed, you can run the algorithms on the **SmallMaze** environment.\n",
    "\n",
    "Functions to implement:\n",
    "\n",
    "- BFS_TreeSearch(problem)\n",
    "- BFS_GraphSearch(problem)\n",
    "\n",
    "Function **build_path(node)** can be used to return a tuple of states from the root node (excluded) to another node by following parent links.\n",
    "\n",
    "Here is the pseudo-code from the book **Artificial Intelligence: A Modern Approach** for *Graph Search* and *Tree Search*:\n",
    "\n",
    "<img src=\"images/tree-graph-search.png\" width=\"600\">\n",
    "\n",
    "Here is the pseudo-code from the book **Artificial Intelligence: A Modern Approach** for the *BFS* algorithm, note that it refers to the implementation of the *Graph Search Version*:\n",
    "\n",
    "<img src=\"images/BFS2.png\" width=\"600\">"
   ]
  },
  {
   "cell_type": "markdown",
   "metadata": {},
   "source": [
    "**The next two functions have to be implemented:**"
   ]
  },
  {
   "cell_type": "code",
   "execution_count": 18,
   "metadata": {},
   "outputs": [],
   "source": [
    "def BFS_TreeSearch(problem):\n",
    "    \"\"\"\n",
    "    Tree Search BFS\n",
    "    \n",
    "    Args:\n",
    "        problem: OpenAI Gym environment\n",
    "        \n",
    "    Returns:\n",
    "        (path, time_cost, space_cost): solution as a path and stats.\n",
    "    \"\"\"\n",
    "    \n",
    "    node = Node(problem.startstate, None)# No parent node \n",
    "    time_cost = 1\n",
    "    space_cost = 1\n",
    "    # space cost is the max (max len in the frontier)\n",
    "    \n",
    "    goalState = problem.goalstate\n",
    "    if goalState == node.state :\n",
    "        return build_path(node), time_cost, space_cost\n",
    "    frontier = NodeQueue()\n",
    "    frontier.add(node)\n",
    "\n",
    "    while not frontier.is_empty():\n",
    "        if (len(frontier)) > space_cost:\n",
    "            space_cost = len(frontier)\n",
    "            \n",
    "        parent = frontier.remove()\n",
    "        \n",
    "        for action in problem.actions:\n",
    "            child = Node(problem.sample(parent.state,action),parent)\n",
    "            time_cost+=1\n",
    "            if child not in frontier: \n",
    "                if  goalState ==child.state:\n",
    "                    return build_path(child), time_cost, space_cost\n",
    "                frontier.add(child)\n",
    "\n",
    "    return \"failure\", time_cost, space_cost\n",
    "\n",
    "    #return build_path(node), time_cost, space_cost"
   ]
  },
  {
   "cell_type": "code",
   "execution_count": 19,
   "metadata": {},
   "outputs": [],
   "source": [
    "def BFS_GraphSearch(problem):\n",
    "    \"\"\"\n",
    "    Graph Search BFS\n",
    "    \n",
    "    Args:\n",
    "        problem: OpenAI Gym environment\n",
    "        \n",
    "    Returns:\n",
    "        (path, time_cost, space_cost): solution as a path and stats.\n",
    "    \"\"\"\n",
    "\n",
    "    node = Node(problem.startstate, None)# No parent node \n",
    "    time_cost = 1\n",
    "    space_cost = 1\n",
    "    goalState = problem.goalstate\n",
    "    \n",
    "    if goalState == node.state :\n",
    "        return build_path(node), time_cost, space_cost\n",
    "    frontier = NodeQueue()\n",
    "    frontier.add(node)\n",
    "    explored = []\n",
    "    #frontierState = []\n",
    "    #frontierState.append(node.state)\n",
    "    \n",
    "    while not frontier.is_empty():\n",
    "        if (len(frontier)+len(explored)) > space_cost:\n",
    "            space_cost = len(frontier) + len(explored)\n",
    "        \n",
    "        parent = frontier.remove()\n",
    "        #frontierState.remove(parent.state)\n",
    "        explored.append(parent.state)\n",
    "\n",
    "        for action in problem.actions:\n",
    "            child = Node(problem.sample(parent.state,action),parent)\n",
    "            time_cost+=1\n",
    "            if (child.state not in frontier) and (child.state not in explored) :\n",
    "                    if goalState == child.state:\n",
    "                        print(build_path(child))\n",
    "                        return build_path(child), time_cost, space_cost\n",
    "                    frontier.add(child)\n",
    "                    #frontierState.append(child.state)\n",
    "\n",
    "    return \"failure\", time_cost, space_cost\n",
    "\n",
    "    #return build_path(node), time_cost, space_cost       "
   ]
  },
  {
   "cell_type": "markdown",
   "metadata": {},
   "source": [
    "**The following code calls your tree search and graph search version of BFS and checks the results**"
   ]
  },
  {
   "cell_type": "code",
   "execution_count": 20,
   "metadata": {
    "scrolled": true
   },
   "outputs": [
    {
     "name": "stdout",
     "output_type": "stream",
     "text": [
      "(1, 0, 4, 8, 12, 16, 17, 18, 19)\n",
      "\u001b[96m##########################################\u001b[0m\n",
      "\u001b[96m#######  BFS TREE SEARCH PROBLEM  ########\u001b[0m\n",
      "\u001b[96m##########################################\u001b[0m\n",
      "Your solution: [(0, 1), (0, 0), (1, 0), (2, 0), (3, 0), (4, 0), (4, 1), (4, 2), (4, 3)]\n",
      "N° of nodes explored: 103723\n",
      "Max n° of nodes in memory: 77791\n",
      "\n",
      "\u001b[1m\u001b[92m===> Your solution is correct!\n",
      "\u001b[0m\n",
      "\u001b[96m##########################################\u001b[0m\n",
      "\u001b[96m#######  BFS Graph SEARCH PROBLEM  #######\u001b[0m\n",
      "\u001b[96m##########################################\u001b[0m\n",
      "Solution: [(0, 1), (0, 0), (1, 0), (2, 0), (3, 0), (4, 0), (4, 1), (4, 2), (4, 3)]\n",
      "N° of nodes explored: 59\n",
      "Max n° of nodes in memory: 15\n",
      "\n",
      "\u001b[1m\u001b[92m===> Your solution is correct!\n",
      "\u001b[0m\n"
     ]
    }
   ],
   "source": [
    "envname = \"SmallMaze-v0\"\n",
    "environment = gym.make(envname)\n",
    "\n",
    "solution_ts, time_ts, memory_ts = BFS_TreeSearch(environment)\n",
    "solution_gs, time_gs, memory_gs = BFS_GraphSearch(environment)\n",
    "\n",
    "results = CheckResult_L1A1([solution_ts, time_ts, memory_ts], [solution_gs, time_gs, memory_gs], environment)\n",
    "results.check_sol_ts()\n",
    "results.check_sol_gs()"
   ]
  },
  {
   "cell_type": "markdown",
   "metadata": {},
   "source": [
    "## Assignment 2:  Depth-Limited Search (DLS) and Iterative Deepening depth-first Search (IDS)\n",
    "\n",
    "Your second assignment is to implement the IDS algorithm on SmallMaze. \n",
    "In particular, you are required to implement *DLS* in the *graph search* version, *DLS* in the *tree search* version, and the final *Iterative_DLS*.\n",
    "\n",
    "Similarly to assignment 1, the results returned by your ids must be in the following form (path, Time Cost, Space Cost) described above. After the correctness of your implementations has been assessed, you can run the algorithms on the **SmallMaze** environment.\n",
    "\n",
    "Functions to implement:\n",
    "\n",
    "- Recursive_DLS_TreeSearch(node, problem, limit)\n",
    "- Recursive_DLS_GraphSearch(node, problem, limit, explored)\n",
    "- IDS(problem)\n",
    "\n",
    "Function **build_path(node)** can be used to return a tuple of states from the root node (excluded) to another node by following parent links.\n",
    "\n",
    "Here is the pseudo-code from the book **Artificial Intelligence: A Modern Approach** for the *Depth-Limited Search (Tree Search Version)* and *Iterative deepening depth-first search (Tree Search Version)*:\n",
    "<img src=\"images/dls.png\" width=\"600\">\n",
    "<img src=\"images/ids.png\" width=\"600\">"
   ]
  },
  {
   "cell_type": "markdown",
   "metadata": {},
   "source": [
    "#### Note that Node() has a depthcost variable that represents the depth of the node in the search tree. This variable is automatically set by the Node constructor: if the root node has a depthcost of 0, its children will have a depthcost increased by 1. An example is shown below. The depthcost is useful to compute the space cost for IDS. An example is shown below:"
   ]
  },
  {
   "cell_type": "code",
   "execution_count": 21,
   "metadata": {},
   "outputs": [
    {
     "name": "stdout",
     "output_type": "stream",
     "text": [
      "Root depthcost: 0\tChild depthcost: 1\n"
     ]
    }
   ],
   "source": [
    "start = environment.startstate\n",
    "root = Node(start)  # parent = None and depthcost = 0 as default\n",
    "\n",
    "child = Node(environment.sample(start, 0), root) # the depthcost is set automatically in the Node constructor\n",
    "print(\"Root depthcost: {}\\tChild depthcost: {}\".format(root.depthcost, child.depthcost))"
   ]
  },
  {
   "cell_type": "code",
   "execution_count": 22,
   "metadata": {},
   "outputs": [],
   "source": [
    "# Inutile ???? Deep Limited Search \n",
    "def DLS(problem, limit, RDLS_Function): # Uses one of the 2 versions of recursive deep limited search \n",
    "      \n",
    "    node = Node(problem.startstate)\n",
    "    return RDLS_Function(node, problem, limit, set())"
   ]
  },
  {
   "cell_type": "markdown",
   "metadata": {},
   "source": [
    "**The next two functions have to be implemented:**"
   ]
  },
  {
   "cell_type": "code",
   "execution_count": 63,
   "metadata": {},
   "outputs": [],
   "source": [
    "def Recursive_DLS_GraphSearch(node, problem, limit, explored): # Deptch limited search with recursion ! \n",
    "    \"\"\"\n",
    "    DLS (Tree Search Version)\n",
    "    \n",
    "    Args:\n",
    "        node: node to explore\n",
    "        problem: OpenAI Gym environment\n",
    "        limit: depth limit for the exploration, negative number means 'no limit'\n",
    "        \n",
    "    Returns:\n",
    "        (path, time_cost, space_cost): solution as a path and stats.\n",
    "    \"\"\"\n",
    "    # metto time cost = 1 solo all'inizio quando il limite è al massimo \n",
    "    #if node.parent == None:\n",
    "    time_cost = 1 \n",
    "    space_cost = node.depthcost\n",
    "    if(node.state not in explored):\n",
    "        explored.add(node.state)\n",
    "    \n",
    "    goal = problem.goalstate\n",
    "    if node.state == goal:  # trovato obbiettivo \n",
    "        return build_path(node),time_cost, space_cost\n",
    "    elif limit==0 : \n",
    "        return \"cut_off\", time_cost, space_cost\n",
    "    else:\n",
    "        cutOff = False\n",
    "        for action in problem.actions:\n",
    "            #time_cost+=1\n",
    "            child = Node(problem.sample(node.state,action),node)\n",
    "            if(child.state not in explored):\n",
    "                result,tc,sc = Recursive_DLS_TreeSearch(child,problem,limit-1) \n",
    "                time_cost += tc \n",
    "                space_cost= max(sc,space_cost)\n",
    "                if result == \"cut_off\": # cutoff solo di questa linea \n",
    "                    cutOff = True \n",
    "                elif result != \"failure\": # Corretto \n",
    "                    return result, time_cost, space_cost\n",
    "            else: \n",
    "                cutOff = True \n",
    "        if cutOff: # Cutoff \n",
    "            return \"cut_off\", time_cost, space_cost"
   ]
  },
  {
   "cell_type": "code",
   "execution_count": 58,
   "metadata": {},
   "outputs": [],
   "source": [
    "def Recursive_DLS_TreeSearch(node, problem, limit, explored=None): # Deptch limited search with recursion ! \n",
    "    \"\"\"\n",
    "    DLS (Tree Search Version)\n",
    "    \n",
    "    Args:\n",
    "        node: node to explore\n",
    "        problem: OpenAI Gym environment\n",
    "        limit: depth limit for the exploration, negative number means 'no limit'\n",
    "        \n",
    "    Returns:\n",
    "        (path, time_cost, space_cost): solution as a path and stats.\n",
    "    \"\"\"\n",
    "    # metto time cost = 1 solo all'inizio quando il limite è al massimo \n",
    "    #if node.parent == None:\n",
    "    time_cost = 1 \n",
    "    space_cost = node.depthcost\n",
    "    \n",
    "    goal = problem.goalstate\n",
    "    if node.state == goal:  # trovato obbiettivo \n",
    "        return build_path(node),time_cost, space_cost\n",
    "    \n",
    "    elif limit==0 : \n",
    "        return \"cut_off\", time_cost, space_cost\n",
    "    else:\n",
    "        cutOff = False\n",
    "        for action in problem.actions:\n",
    "            #time_cost+=1\n",
    "            child = Node(problem.sample(node.state,action),node)\n",
    "            result,tc,sc = Recursive_DLS_TreeSearch(child,problem,limit-1) \n",
    "            time_cost += tc \n",
    "            space_cost= max(sc,space_cost)\n",
    "            if result == \"cut_off\": # cutoff solo di questa linea \n",
    "                cutOff = True \n",
    "            elif result != \"failure\": # Corretto \n",
    "                return result, time_cost, space_cost\n",
    "        if cutOff: # Cutoff \n",
    "            return \"cut_off\", time_cost, space_cost"
   ]
  },
  {
   "cell_type": "code",
   "execution_count": 65,
   "metadata": {},
   "outputs": [],
   "source": [
    "def IDS(problem, DLS_Function): # iterative deepening search \n",
    "    \"\"\"\n",
    "    Iteartive_DLS DLS\n",
    "    \n",
    "    Args:\n",
    "        problem: OpenAI Gym environment\n",
    "        \n",
    "    Returns:\n",
    "        (path, time_cost, space_cost): solution as a path and stats.\n",
    "    \"\"\"\n",
    "    total_time_cost = 0\n",
    "    total_space_cost = 1\n",
    "    explored = set()\n",
    "    \n",
    "    for i in zero_to_infinity():\n",
    "        result,tc,sc = DLS_Function(root,problem,i,explored)\n",
    "        total_time_cost+= tc\n",
    "        total_space_cost = max(total_space_cost,sc)\n",
    "        if (result != \"cut_off\"):\n",
    "            return result, total_time_cost, total_space_cost, i"
   ]
  },
  {
   "cell_type": "markdown",
   "metadata": {},
   "source": [
    "**The following code calls your version of IDS and checks the results:**"
   ]
  },
  {
   "cell_type": "code",
   "execution_count": 66,
   "metadata": {},
   "outputs": [
    {
     "name": "stdout",
     "output_type": "stream",
     "text": [
      "\u001b[96m##########################################\u001b[0m\n",
      "\u001b[96m#######  IDS TREE SEARCH PROBLEM  ########\u001b[0m\n",
      "\u001b[96m##########################################\u001b[0m\n",
      "Necessary Iterations: 9\n",
      "Your solution: [(0, 1), (0, 0), (1, 0), (2, 0), (3, 0), (4, 0), (4, 1), (4, 2), (4, 3)]\n",
      "N° of nodes explored: 138298\n",
      "Max n° of nodes in memory: 9\n",
      "\n",
      "\u001b[1m\u001b[92m===> Your solution is correct!\n",
      "\u001b[0m\n",
      "\u001b[96m##########################################\u001b[0m\n",
      "\u001b[96m#######  IDS GRAPH SEARCH PROBLEM  #######\u001b[0m\n",
      "\u001b[96m##########################################\u001b[0m\n",
      "Necessary Iterations: 9\n",
      "Solution: [(0, 1), (0, 0), (1, 0), (2, 0), (3, 0), (4, 0), (4, 1), (4, 2), (4, 3)]\n",
      "N° of nodes explored: 80050\n",
      "Max n° of nodes in memory: 9\n",
      "\n",
      "\u001b[91m> Your necessary iterations are not correct, should be: 11\n",
      "\u001b[0m\n"
     ]
    }
   ],
   "source": [
    "envname = \"SmallMaze-v0\"\n",
    "environment = gym.make(envname)\n",
    "\n",
    "solution_ts, time_ts, memory_ts, iterations_ts = IDS(environment, Recursive_DLS_TreeSearch)\n",
    "solution_gs, time_gs, memory_gs, iterations_gs = IDS(environment, Recursive_DLS_GraphSearch)\n",
    "\n",
    "results = CheckResult_L1A2([solution_ts, time_ts, memory_ts, iterations_ts], [solution_gs, time_gs, memory_gs, iterations_gs], environment)\n",
    "results.check_sol_ts()\n",
    "results.check_sol_gs()"
   ]
  },
  {
   "cell_type": "markdown",
   "metadata": {},
   "source": [
    "### Discussion\n",
    "\n",
    "Now that you have correctly implemented both BFS and IDS what can you say about the solutions they compute? Are there significant differences in the stats?"
   ]
  },
  {
   "cell_type": "code",
   "execution_count": null,
   "metadata": {},
   "outputs": [],
   "source": []
  }
 ],
 "metadata": {
  "kernelspec": {
   "display_name": "Python 3 (ipykernel)",
   "language": "python",
   "name": "python3"
  },
  "language_info": {
   "codemirror_mode": {
    "name": "ipython",
    "version": 3
   },
   "file_extension": ".py",
   "mimetype": "text/x-python",
   "name": "python",
   "nbconvert_exporter": "python",
   "pygments_lexer": "ipython3",
   "version": "3.7.3"
  }
 },
 "nbformat": 4,
 "nbformat_minor": 4
}
