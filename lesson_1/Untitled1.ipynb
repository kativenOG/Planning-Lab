{
 "cells": [
  {
   "cell_type": "code",
   "execution_count": null,
   "id": "8d5d53e0-d8da-4276-84a5-c785ff55fc57",
   "metadata": {},
   "outputs": [],
   "source": [
    "import os, sys, time, math\n",
    "\n",
    "module_path = os.path.abspath(os.path.join('../tools'))\n",
    "if module_path not in sys.path:\n",
    "    sys.path.append(module_path)\n",
    "\n",
    "from utils.ai_lab_functions import *\n",
    "import gym, envs\n",
    "envname = \"SmallMaze-v0\"\n",
    "environment = gym.make(envname)\n",
    "\n",
    "start = environment.start \n",
    "root = Node(start,None)\n",
    "\n",
    "time_cost = 1 \n",
    "time_cost = 0 \n",
    "for i in zero_to_infinity():\n",
    "    explored = set()\n",
    "    result, tc, sc = rec_dls_three(root,enviroment,i,explored)\n",
    "    if result != \"cut_off\":\n",
    "        return result,tc,sc,i\n",
    "    \n",
    "def rec_dls_three(node,enviroment,limit,explored = None):\n",
    "    timeCost = 1 \n",
    "    spaceCost = node.depthcost\n",
    "    goal = enviroment.goalstate \n",
    "    if node.state == goal:\n",
    "        return build_path(node),timeCost,spaceCost"
   ]
  }
 ],
 "metadata": {
  "kernelspec": {
   "display_name": "Python 3 (ipykernel)",
   "language": "python",
   "name": "python3"
  },
  "language_info": {
   "codemirror_mode": {
    "name": "ipython",
    "version": 3
   },
   "file_extension": ".py",
   "mimetype": "text/x-python",
   "name": "python",
   "nbconvert_exporter": "python",
   "pygments_lexer": "ipython3",
   "version": "3.7.3"
  }
 },
 "nbformat": 4,
 "nbformat_minor": 5
}
