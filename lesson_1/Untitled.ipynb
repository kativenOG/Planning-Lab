{
 "cells": [
  {
   "cell_type": "code",
   "execution_count": null,
   "id": "f1d38328-257e-49db-8e29-3577fc2139b9",
   "metadata": {},
   "outputs": [],
   "source": []
  },
  {
   "cell_type": "markdown",
   "id": "d613e42b-84cd-42bf-a6ea-617a0978f7d1",
   "metadata": {},
   "source": [
    "\n",
    "<img src=\"images/dls.png\" width=\"600\">\n",
    "<img src=\"images/ids.png\" width=\"600\">"
   ]
  },
  {
   "cell_type": "code",
   "execution_count": null,
   "id": "6bf89667-bb24-4959-97be-17bcfc8cb506",
   "metadata": {},
   "outputs": [],
   "source": [
    "build_path(child)\n",
    "frontier.add(child)\n",
    "frontier.add(node)\n",
    "explored.append(parent.state)\n"
   ]
  }
 ],
 "metadata": {
  "kernelspec": {
   "display_name": "Python 3 (ipykernel)",
   "language": "python",
   "name": "python3"
  },
  "language_info": {
   "codemirror_mode": {
    "name": "ipython",
    "version": 3
   },
   "file_extension": ".py",
   "mimetype": "text/x-python",
   "name": "python",
   "nbconvert_exporter": "python",
   "pygments_lexer": "ipython3",
   "version": "3.7.3"
  }
 },
 "nbformat": 4,
 "nbformat_minor": 5
}
